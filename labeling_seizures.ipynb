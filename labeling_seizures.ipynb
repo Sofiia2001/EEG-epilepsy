{
 "cells": [
  {
   "cell_type": "code",
   "execution_count": 20,
   "metadata": {},
   "outputs": [],
   "source": [
    "import mne\n",
    "import pandas as pd\n",
    "from scipy.fft import fft, fftfreq, rfft, rfftfreq, rfftn \n",
    "import numpy as np\n",
    "import scipy\n",
    "import matplotlib.pyplot as plt \n",
    "import os"
   ]
  },
  {
   "cell_type": "code",
   "execution_count": 2,
   "metadata": {},
   "outputs": [],
   "source": [
    "def create_raw_object(file_path):\n",
    "    # Creating the raw edf object using mne library  \n",
    "    return mne.io.read_raw_edf(file_path)"
   ]
  },
  {
   "cell_type": "code",
   "execution_count": 3,
   "metadata": {},
   "outputs": [],
   "source": [
    "def visualize_data(raw_object, duration_sec, start_time, eeg_color):\n",
    "    # Plotting the EEG data   \n",
    "    raw_object.plot(duration=duration_sec, start=start_time, color=dict(mag='black', grad='b', eeg=eeg_color, eog='k', ecg='m',\n",
    "     emg='k', ref_meg='steelblue', misc='k', stim='k',\n",
    "     resp='k', chpi='k'), bad_color=\"maroon\")"
   ]
  },
  {
   "cell_type": "code",
   "execution_count": 7,
   "metadata": {},
   "outputs": [],
   "source": [
    "def xlsx_to_df(file_path):\n",
    "    train_seizures_timing = pd.read_excel(\n",
    "        file_path,\n",
    "        sheet_name='train',\n",
    "        header=0,\n",
    "        names=['Patient', 'Session', 'File', 'EEG Type', 'Normal/Abnormal', 'Filename', 'Start', 'Stop', 'Seizure Type'],\n",
    "        usecols='C:F, I, L, M:O'\n",
    "    )\n",
    "    \n",
    "    dev_seizures_timing = pd.read_excel(\n",
    "        file_path,\n",
    "        sheet_name='dev',\n",
    "        header=0,\n",
    "        names=['Patient', 'Session', 'File', 'EEG Type', 'Normal/Abnormal', 'Filename', 'Start', 'Stop', 'Seizure Type'],\n",
    "        usecols='C:F, I, L, M:O'\n",
    "    )\n",
    "    \n",
    "    \n",
    "    return train_seizures_timing, dev_seizures_timing"
   ]
  },
  {
   "cell_type": "code",
   "execution_count": 10,
   "metadata": {},
   "outputs": [],
   "source": [
    "def find_all_paths(path):\n",
    "    # Goes into all possible directories starting from initial \"path\" \n",
    "    # goes into all sub-directories to find .edf files     \n",
    "    list_of_files = {}\n",
    "    for (dirpath, dirnames, filenames) in os.walk(path):\n",
    "        for filename in filenames:\n",
    "            if filename.endswith(\".edf\"):\n",
    "                list_of_files[filename] = os.sep.join([dirpath, filename])\n",
    "    return list_of_files"
   ]
  },
  {
   "cell_type": "code",
   "execution_count": 24,
   "metadata": {},
   "outputs": [],
   "source": [
    "def delete_unknown_files():\n",
    "    to_delete = list(train_seizures_timing['Filename'][train_seizures_timing['EEG Type']=='Unknown']) + \\\n",
    "    list(dev_seizures_timing['Filename'][dev_seizures_timing['EEG Type']=='Unknown'])\n",
    "    \n",
    "    for file in to_delete:\n",
    "        try:\n",
    "            os.remove(f'edf{file[1:-3]}edf')\n",
    "            os.remove(f'edf{file[1:]}')\n",
    "            os.remove(f'edf{file[1:-3]}lbl')\n",
    "            os.remove(f'edf{file[1:-3]}lbl_bi')\n",
    "            os.remove(f'edf{file[1:]}_bi')\n",
    "        except:\n",
    "            pass\n",
    "\n",
    "    print(to_delete)"
   ]
  },
  {
   "cell_type": "code",
   "execution_count": 25,
   "metadata": {
    "scrolled": true
   },
   "outputs": [
    {
     "name": "stdout",
     "output_type": "stream",
     "text": [
      "['./train/02_tcp_le/069/00006904/s001_2010_08_20/00006904_s001_t000.tse', './train/02_tcp_le/056/00005672/s004_2009_07_13/00005672_s004_t001.tse', './train/02_tcp_le/004/00000499/s001_2003_09_30/00000499_s001_t006.tse', './train/02_tcp_le/004/00000418/s011_2009_01_26/00000418_s011_t000.tse', './train/02_tcp_le/079/00007952/s001_2011_07_25/00007952_s001_t001.tse', './train/02_tcp_le/009/00000906/s009_2009_07_27/00000906_s009_t000.tse', './train/02_tcp_le/009/00000906/s010_2009_08_10/00000906_s010_t000.tse', './train/02_tcp_le/028/00002881/s001_2006_04_21/00002881_s001_t000.tse', './train/02_tcp_le/028/00002806/s003_2004_12_28/00002806_s003_t000.tse', './train/02_tcp_le/022/00002236/s001_2004_12_02/00002236_s001_t000.tse', './train/02_tcp_le/020/00002051/s001_2004_02_26/00002051_s001_t001.tse', './train/02_tcp_le/068/00006811/s004_2010_07_30/00006811_s004_t000.tse', './train/02_tcp_le/027/00002752/s001_2006_04_10/00002752_s001_t000.tse', './train/02_tcp_le/011/00001113/s001_2004_01_16/00001113_s001_t000.tse', './train/02_tcp_le/011/00001113/s002_2004_08_31/00001113_s002_t001.tse', './train/02_tcp_le/011/00001116/s001_2004_09_16/00001116_s001_t001.tse', './train/02_tcp_le/008/00000850/s001_2003_06_11/00000850_s001_t001.tse', './train/01_tcp_ar/065/00006515/s003_2010_08_13/00006515_s003_t000.tse', './train/01_tcp_ar/065/00006514/s001_2010_04_27/00006514_s001_t000.tse', './train/01_tcp_ar/065/00006563/s001_2010_02_08/00006563_s001_t001.tse', './train/01_tcp_ar/065/00006535/s001_2010_09_03/00006535_s001_t000.tse', './train/01_tcp_ar/062/00006230/s001_2009_12_08/00006230_s001_t001.tse', './train/01_tcp_ar/068/00006811/s002_2010_02_12/00006811_s002_t000.tse', './train/01_tcp_ar/071/00007170/s004_2013_05_14/00007170_s004_t000.tse', './train/01_tcp_ar/091/00009158/s007_2012_10_24/00009158_s007_t001.tse', './train/01_tcp_ar/091/00009158/s009_2012_10_24/00009158_s009_t010.tse', './train/01_tcp_ar/091/00009158/s008_2012_10_24/00009158_s008_t000.tse', './train/01_tcp_ar/105/00010551/s001_2013_07_24/00010551_s001_t000.tse', './train/01_tcp_ar/105/00010551/s002_2013_07_24/00010551_s002_t007.tse', './train/01_tcp_ar/008/00000850/s002_2013_05_15/00000850_s002_t000.tse', './train/01_tcp_ar/029/00002991/s003_2010_04_26/00002991_s003_t001.tse', './train/01_tcp_ar/059/00005936/s001_2009_09_16/00005936_s001_t001.tse', './train/01_tcp_ar/102/00010234/s001_2013_01_22/00010234_s001_t001.tse', './train/01_tcp_ar/096/00009623/s013_2013_02_08/00009623_s013_t000.tse', './train/01_tcp_ar/087/00008738/s006_2013_06_06/00008738_s006_t002.tse', './train/01_tcp_ar/084/00008476/s007_2012_10_26/00008476_s007_t001.tse', './train/01_tcp_ar/084/00008480/s007_2012_11_11/00008480_s007_t001.tse', './train/01_tcp_ar/104/00010489/s006_2013_07_11/00010489_s006_t008.tse', './train/01_tcp_ar/104/00010418/s007_2013_06_11/00010418_s007_t000.tse', './train/01_tcp_ar/009/00000906/s018_2013_01_22/00000906_s018_t000.tse', './train/01_tcp_ar/074/00007475/s003_2013_03_22/00007475_s003_t000.tse', './train/03_tcp_ar_a/009/00000975/s003_2004_10_19/00000975_s003_t000.tse', './dev/01_tcp_ar/010/00001027/s003_2004_01_29/00001027_s003_t000.tse', './dev/01_tcp_ar/010/00001027/s004_2004_01_30/00001027_s004_t000.tse', './dev/01_tcp_ar/012/00001278/s002_2003_11_17/00001278_s002_t000.tse', './dev/01_tcp_ar/045/00004594/s004_2013_02_25/00004594_s004_t000.tse', './dev/01_tcp_ar/060/00006059/s007_2013_04_26/00006059_s007_t000.tse', './dev/01_tcp_ar/069/00006900/s003_2013_09_17/00006900_s003_t000.tse', './dev/01_tcp_ar/085/00008544/s006_2012_01_05/00008544_s006_t000.tse', './dev/01_tcp_ar/095/00009578/s005_2013_03_02/00009578_s005_t000.tse', './dev/01_tcp_ar/095/00009578/s006_2013_03_02/00009578_s006_t000.tse', './dev/01_tcp_ar/095/00009578/s008_2013_03_03/00009578_s008_t000.tse', './dev/01_tcp_ar/095/00009578/s009_2013_07_25/00009578_s009_t000.tse', './dev/01_tcp_ar/095/00009578/s028_2013_08_22/00009578_s028_t000.tse', './dev/01_tcp_ar/095/00009578/s029_2013_08_23/00009578_s029_t000.tse', './dev/01_tcp_ar/095/00009578/s033_2013_08_26/00009578_s033_t000.tse', './dev/01_tcp_ar/095/00009578/s034_2013_08_27/00009578_s034_t000.tse', './dev/01_tcp_ar/095/00009578/s035_2013_08_28/00009578_s035_t000.tse', './dev/01_tcp_ar/095/00009578/s037_2013_08_30/00009578_s037_t000.tse', './dev/01_tcp_ar/098/00009839/s001_2013_03_26/00009839_s001_t000.tse', './dev/01_tcp_ar/098/00009839/s002_2013_04_15/00009839_s002_t000.tse', './dev/01_tcp_ar/098/00009839/s003_2013_04_30/00009839_s003_t000.tse', './dev/01_tcp_ar/098/00009866/s005_2013_07_30/00009866_s005_t001.tse', './dev/01_tcp_ar/106/00010639/s002_2013_08_30/00010639_s002_t000.tse', './dev/02_tcp_le/006/00000675/s001_2003_11_10/00000675_s001_t001.tse', './dev/02_tcp_le/006/00000675/s002_2006_09_05/00000675_s002_t001.tse', './dev/02_tcp_le/012/00001278/s001_2003_11_17/00001278_s001_t001.tse', './dev/02_tcp_le/016/00001640/s001_2004_09_21/00001640_s001_t001.tse', './dev/02_tcp_le/017/00001770/s002_2004_07_20/00001770_s002_t000.tse', './dev/02_tcp_le/017/00001770/s003_2006_10_26/00001770_s003_t000.tse', './dev/02_tcp_le/019/00001981/s001_2004_02_20/00001981_s001_t000.tse', './dev/02_tcp_le/019/00001984/s001_2004_02_17/00001984_s001_t001.tse', './dev/02_tcp_le/033/00003306/s001_2006_10_11/00003306_s001_t001.tse', './dev/02_tcp_le/059/00005943/s005_2009_07_08/00005943_s005_t000.tse']\n"
     ]
    }
   ],
   "source": [
    "delete_unknown_files()"
   ]
  },
  {
   "cell_type": "code",
   "execution_count": 8,
   "metadata": {},
   "outputs": [],
   "source": [
    "train_seizures_timing, dev_seizures_timing = xlsx_to_df('_DOCS/seizures_v36r.xlsx')"
   ]
  },
  {
   "cell_type": "code",
   "execution_count": 9,
   "metadata": {},
   "outputs": [
    {
     "data": {
      "text/html": [
       "<div>\n",
       "<style scoped>\n",
       "    .dataframe tbody tr th:only-of-type {\n",
       "        vertical-align: middle;\n",
       "    }\n",
       "\n",
       "    .dataframe tbody tr th {\n",
       "        vertical-align: top;\n",
       "    }\n",
       "\n",
       "    .dataframe thead th {\n",
       "        text-align: right;\n",
       "    }\n",
       "</style>\n",
       "<table border=\"1\" class=\"dataframe\">\n",
       "  <thead>\n",
       "    <tr style=\"text-align: right;\">\n",
       "      <th></th>\n",
       "      <th>Patient</th>\n",
       "      <th>Session</th>\n",
       "      <th>File</th>\n",
       "      <th>EEG Type</th>\n",
       "      <th>Normal/Abnormal</th>\n",
       "      <th>Filename</th>\n",
       "      <th>Start</th>\n",
       "      <th>Stop</th>\n",
       "      <th>Seizure Type</th>\n",
       "    </tr>\n",
       "  </thead>\n",
       "  <tbody>\n",
       "    <tr>\n",
       "      <th>0</th>\n",
       "      <td>NaN</td>\n",
       "      <td>NaN</td>\n",
       "      <td>NaN</td>\n",
       "      <td>NaN</td>\n",
       "      <td>NaN</td>\n",
       "      <td>Filename</td>\n",
       "      <td>Start</td>\n",
       "      <td>Stop</td>\n",
       "      <td>NaN</td>\n",
       "    </tr>\n",
       "    <tr>\n",
       "      <th>1</th>\n",
       "      <td>1402.0</td>\n",
       "      <td>s003</td>\n",
       "      <td>t001</td>\n",
       "      <td>Outpatient</td>\n",
       "      <td>Normal</td>\n",
       "      <td>./train/02_tcp_le/014/00001402/s003_2008_07_21...</td>\n",
       "      <td>NaN</td>\n",
       "      <td>NaN</td>\n",
       "      <td>NaN</td>\n",
       "    </tr>\n",
       "    <tr>\n",
       "      <th>2</th>\n",
       "      <td>1479.0</td>\n",
       "      <td>s001</td>\n",
       "      <td>t001</td>\n",
       "      <td>ICU</td>\n",
       "      <td>Abnormal</td>\n",
       "      <td>./train/02_tcp_le/014/00001479/s001_2004_06_14...</td>\n",
       "      <td>950.004</td>\n",
       "      <td>1047.02</td>\n",
       "      <td>FNSZ</td>\n",
       "    </tr>\n",
       "    <tr>\n",
       "      <th>3</th>\n",
       "      <td>1413.0</td>\n",
       "      <td>s001</td>\n",
       "      <td>t000</td>\n",
       "      <td>EMU</td>\n",
       "      <td>Abnormal</td>\n",
       "      <td>./train/02_tcp_le/014/00001413/s001_2004_07_13...</td>\n",
       "      <td>315.34</td>\n",
       "      <td>319.024</td>\n",
       "      <td>ABSZ</td>\n",
       "    </tr>\n",
       "    <tr>\n",
       "      <th>4</th>\n",
       "      <td>NaN</td>\n",
       "      <td>NaN</td>\n",
       "      <td>NaN</td>\n",
       "      <td>NaN</td>\n",
       "      <td>NaN</td>\n",
       "      <td>./train/02_tcp_le/014/00001413/s001_2004_07_13...</td>\n",
       "      <td>327.668</td>\n",
       "      <td>330.032</td>\n",
       "      <td>ABSZ</td>\n",
       "    </tr>\n",
       "  </tbody>\n",
       "</table>\n",
       "</div>"
      ],
      "text/plain": [
       "   Patient Session  File    EEG Type Normal/Abnormal  \\\n",
       "0      NaN     NaN   NaN         NaN             NaN   \n",
       "1   1402.0    s003  t001  Outpatient          Normal   \n",
       "2   1479.0    s001  t001         ICU        Abnormal   \n",
       "3   1413.0    s001  t000         EMU        Abnormal   \n",
       "4      NaN     NaN   NaN         NaN             NaN   \n",
       "\n",
       "                                            Filename    Start     Stop  \\\n",
       "0                                           Filename    Start     Stop   \n",
       "1  ./train/02_tcp_le/014/00001402/s003_2008_07_21...      NaN      NaN   \n",
       "2  ./train/02_tcp_le/014/00001479/s001_2004_06_14...  950.004  1047.02   \n",
       "3  ./train/02_tcp_le/014/00001413/s001_2004_07_13...   315.34  319.024   \n",
       "4  ./train/02_tcp_le/014/00001413/s001_2004_07_13...  327.668  330.032   \n",
       "\n",
       "  Seizure Type  \n",
       "0          NaN  \n",
       "1          NaN  \n",
       "2         FNSZ  \n",
       "3         ABSZ  \n",
       "4         ABSZ  "
      ]
     },
     "execution_count": 9,
     "metadata": {},
     "output_type": "execute_result"
    }
   ],
   "source": [
    "train_seizures_timing.head()"
   ]
  },
  {
   "cell_type": "code",
   "execution_count": 7,
   "metadata": {},
   "outputs": [
    {
     "name": "stdout",
     "output_type": "stream",
     "text": [
      "Extracting EDF parameters from /home/sofiia/projects/EEG_disease/edf_train_01_tcp_ar_000_00000077_s003_2010_01_21_00000077_s003_t000.edf...\n",
      "EDF file detected\n",
      "Setting channel info structure...\n",
      "Creating raw.info structure...\n"
     ]
    }
   ],
   "source": [
    "rawEDF = create_raw_object(\"edf_train_01_tcp_ar_000_00000077_s003_2010_01_21_00000077_s003_t000.edf\")"
   ]
  },
  {
   "cell_type": "code",
   "execution_count": 8,
   "metadata": {},
   "outputs": [
    {
     "data": {
      "text/plain": [
       "<Info | 7 non-empty values\n",
       " bads: []\n",
       " ch_names: EEG FP1-REF, EEG FP2-REF, EEG F3-REF, EEG F4-REF, EEG C3-REF, ...\n",
       " chs: 36 EEG\n",
       " custom_ref_applied: False\n",
       " highpass: 0.0 Hz\n",
       " lowpass: 125.0 Hz\n",
       " meas_date: 2010-01-21 13:58:36 UTC\n",
       " nchan: 36\n",
       " projs: []\n",
       " sfreq: 250.0 Hz\n",
       ">"
      ]
     },
     "execution_count": 8,
     "metadata": {},
     "output_type": "execute_result"
    }
   ],
   "source": [
    "rawEDF.info"
   ]
  },
  {
   "cell_type": "code",
   "execution_count": 9,
   "metadata": {},
   "outputs": [
    {
     "name": "stdout",
     "output_type": "stream",
     "text": [
      "25000 25250\n"
     ]
    }
   ],
   "source": [
    "def fast_fourier_transform(rawEDF, if_real_value=False):\n",
    "    start, stop = rawEDF.time_as_index([100, 101])\n",
    "    print(start, stop)\n",
    "    data, times = rawEDF[:, start:stop]\n",
    "    print(data.shape)\n",
    "    \n",
    "    if if_real_value is True:\n",
    "        yf = fft(data[1])\n",
    "        xf = fftfreq(250, 1 / 250)\n",
    "    else:\n",
    "        yf = rfft(data[1])\n",
    "        xf = rfftfreq(250, 1 / 250)\n",
    "\n",
    "    plt.plot(xf, np.abs(yf))\n",
    "    plt.show()"
   ]
  },
  {
   "cell_type": "code",
   "execution_count": 28,
   "metadata": {},
   "outputs": [
    {
     "data": {
      "image/png": "[encoded data removed]",
      "text/plain": [
       "<Figure size 432x288 with 1 Axes>"
      ]
     },
     "metadata": {
      "needs_background": "light"
     },
     "output_type": "display_data"
    }
   ],
   "source": [
    "yf = rfftn(data).sum(axis=0) / len(data)\n",
    "# normalized_yf = \n",
    "# len(yf)\n",
    "# yf\n",
    "xf = rfftfreq(250, 1 / 250)\n",
    "plt.plot(xf, np.abs(yf), 'r')\n",
    "plt.plot(rfftfreq(250, 1 / 250), np.abs(rfft(data[1])))\n",
    "plt.show()"
   ]
  },
  {
   "cell_type": "code",
   "execution_count": null,
   "metadata": {},
   "outputs": [],
   "source": []
  }
 ],
 "metadata": {
  "kernelspec": {
   "display_name": "Python 3",
   "language": "python",
   "name": "python3"
  },
  "language_info": {
   "codemirror_mode": {
    "name": "ipython",
    "version": 3
   },
   "file_extension": ".py",
   "mimetype": "text/x-python",
   "name": "python",
   "nbconvert_exporter": "python",
   "pygments_lexer": "ipython3",
   "version": "3.7.7"
  }
 },
 "nbformat": 4,
 "nbformat_minor": 4
}
