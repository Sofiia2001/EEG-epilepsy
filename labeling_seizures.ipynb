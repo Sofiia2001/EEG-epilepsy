{
 "cells": [
  {
   "cell_type": "code",
   "execution_count": 58,
   "metadata": {},
   "outputs": [],
   "source": [
    "import mne\n",
    "import pandas as pd\n",
    "from scipy.fft import fft, fftfreq\n",
    "import scipy"
   ]
  },
  {
   "cell_type": "code",
   "execution_count": 51,
   "metadata": {},
   "outputs": [],
   "source": [
    "def create_raw_object(file_path):\n",
    "    # Creating the raw edf object using mne library  \n",
    "    return mne.io.read_raw_edf(file_path)"
   ]
  },
  {
   "cell_type": "code",
   "execution_count": 52,
   "metadata": {},
   "outputs": [],
   "source": [
    "def visualize_data(raw_object, duration_sec, start_time, eeg_color):\n",
    "    # Plotting the EEG data   \n",
    "    raw_object.plot(duration=duration_sec, start=start_time, color=dict(mag='black', grad='b', eeg=eeg_color, eog='k', ecg='m',\n",
    "     emg='k', ref_meg='steelblue', misc='k', stim='k',\n",
    "     resp='k', chpi='k'), bad_color=\"maroon\")"
   ]
  },
  {
   "cell_type": "code",
   "execution_count": 53,
   "metadata": {},
   "outputs": [],
   "source": [
    "def xlsx_to_df(file_path):\n",
    "    train_seizures_timing = pd.read_excel(\n",
    "        file_path,\n",
    "        sheet_name='train',\n",
    "        header=0,\n",
    "        names=['Patient', 'Session', 'File', 'EEG Type', 'Normal/Abnormal', 'Start', 'Stop', 'Seizure Type'],\n",
    "        usecols='C:F, I, M:O'\n",
    "    )\n",
    "    \n",
    "    dev_seizures_timing = pd.read_excel(\n",
    "        file_path,\n",
    "        sheet_name='dev',\n",
    "        header=0,\n",
    "        names=['Patient', 'Session', 'File', 'EEG Type', 'Normal/Abnormal', 'Start', 'Stop', 'Seizure Type'],\n",
    "        usecols='C:F, I, M:O'\n",
    "    )\n",
    "    \n",
    "    \n",
    "    return train_seizures_timing, dev_seizures_timing"
   ]
  },
  {
   "cell_type": "code",
   "execution_count": 54,
   "metadata": {},
   "outputs": [],
   "source": [
    "train_seizures_timing, dev_seizures_timing = xlsx_to_df('_DOCS/seizures_v36r.xlsx')"
   ]
  },
  {
   "cell_type": "code",
   "execution_count": 46,
   "metadata": {},
   "outputs": [
    {
     "data": {
      "text/html": [
       "<div>\n",
       "<style scoped>\n",
       "    .dataframe tbody tr th:only-of-type {\n",
       "        vertical-align: middle;\n",
       "    }\n",
       "\n",
       "    .dataframe tbody tr th {\n",
       "        vertical-align: top;\n",
       "    }\n",
       "\n",
       "    .dataframe thead th {\n",
       "        text-align: right;\n",
       "    }\n",
       "</style>\n",
       "<table border=\"1\" class=\"dataframe\">\n",
       "  <thead>\n",
       "    <tr style=\"text-align: right;\">\n",
       "      <th></th>\n",
       "      <th>Patient</th>\n",
       "      <th>Session</th>\n",
       "      <th>File</th>\n",
       "      <th>EEG Type</th>\n",
       "      <th>Normal/Abnormal</th>\n",
       "      <th>Start</th>\n",
       "      <th>Stop</th>\n",
       "      <th>Seizure Type</th>\n",
       "    </tr>\n",
       "  </thead>\n",
       "  <tbody>\n",
       "    <tr>\n",
       "      <th>0</th>\n",
       "      <td>NaN</td>\n",
       "      <td>NaN</td>\n",
       "      <td>NaN</td>\n",
       "      <td>NaN</td>\n",
       "      <td>NaN</td>\n",
       "      <td>Start</td>\n",
       "      <td>Stop</td>\n",
       "      <td>NaN</td>\n",
       "    </tr>\n",
       "    <tr>\n",
       "      <th>1</th>\n",
       "      <td>1402.0</td>\n",
       "      <td>s003</td>\n",
       "      <td>t001</td>\n",
       "      <td>Outpatient</td>\n",
       "      <td>Normal</td>\n",
       "      <td>NaN</td>\n",
       "      <td>NaN</td>\n",
       "      <td>NaN</td>\n",
       "    </tr>\n",
       "    <tr>\n",
       "      <th>2</th>\n",
       "      <td>1479.0</td>\n",
       "      <td>s001</td>\n",
       "      <td>t001</td>\n",
       "      <td>ICU</td>\n",
       "      <td>Abnormal</td>\n",
       "      <td>950.004</td>\n",
       "      <td>1047.02</td>\n",
       "      <td>FNSZ</td>\n",
       "    </tr>\n",
       "    <tr>\n",
       "      <th>3</th>\n",
       "      <td>1413.0</td>\n",
       "      <td>s001</td>\n",
       "      <td>t000</td>\n",
       "      <td>EMU</td>\n",
       "      <td>Abnormal</td>\n",
       "      <td>315.34</td>\n",
       "      <td>319.024</td>\n",
       "      <td>ABSZ</td>\n",
       "    </tr>\n",
       "    <tr>\n",
       "      <th>4</th>\n",
       "      <td>NaN</td>\n",
       "      <td>NaN</td>\n",
       "      <td>NaN</td>\n",
       "      <td>NaN</td>\n",
       "      <td>NaN</td>\n",
       "      <td>327.668</td>\n",
       "      <td>330.032</td>\n",
       "      <td>ABSZ</td>\n",
       "    </tr>\n",
       "  </tbody>\n",
       "</table>\n",
       "</div>"
      ],
      "text/plain": [
       "   Patient Session  File    EEG Type Normal/Abnormal    Start     Stop  \\\n",
       "0      NaN     NaN   NaN         NaN             NaN    Start     Stop   \n",
       "1   1402.0    s003  t001  Outpatient          Normal      NaN      NaN   \n",
       "2   1479.0    s001  t001         ICU        Abnormal  950.004  1047.02   \n",
       "3   1413.0    s001  t000         EMU        Abnormal   315.34  319.024   \n",
       "4      NaN     NaN   NaN         NaN             NaN  327.668  330.032   \n",
       "\n",
       "  Seizure Type  \n",
       "0          NaN  \n",
       "1          NaN  \n",
       "2         FNSZ  \n",
       "3         ABSZ  \n",
       "4         ABSZ  "
      ]
     },
     "execution_count": 46,
     "metadata": {},
     "output_type": "execute_result"
    }
   ],
   "source": [
    "train_seizures_timing.head()"
   ]
  },
  {
   "cell_type": "code",
   "execution_count": 55,
   "metadata": {},
   "outputs": [
    {
     "name": "stdout",
     "output_type": "stream",
     "text": [
      "Extracting EDF parameters from /home/sophia/eeg_epilepsy/edf_train_01_tcp_ar_000_00000077_s003_2010_01_21_00000077_s003_t000.edf...\n",
      "EDF file detected\n",
      "Setting channel info structure...\n",
      "Creating raw.info structure...\n"
     ]
    }
   ],
   "source": [
    "rawEDF = create_raw_object(\"edf_train_01_tcp_ar_000_00000077_s003_2010_01_21_00000077_s003_t000.edf\")"
   ]
  },
  {
   "cell_type": "code",
   "execution_count": 56,
   "metadata": {},
   "outputs": [
    {
     "data": {
      "text/plain": [
       "<Info | 7 non-empty values\n",
       " bads: []\n",
       " ch_names: EEG FP1-REF, EEG FP2-REF, EEG F3-REF, EEG F4-REF, EEG C3-REF, ...\n",
       " chs: 36 EEG\n",
       " custom_ref_applied: False\n",
       " highpass: 0.0 Hz\n",
       " lowpass: 125.0 Hz\n",
       " meas_date: 2010-01-21 13:58:36 UTC\n",
       " nchan: 36\n",
       " projs: []\n",
       " sfreq: 250.0 Hz\n",
       ">"
      ]
     },
     "execution_count": 56,
     "metadata": {},
     "output_type": "execute_result"
    }
   ],
   "source": [
    "rawEDF.info"
   ]
  },
  {
   "cell_type": "code",
   "execution_count": 72,
   "metadata": {},
   "outputs": [
    {
     "name": "stdout",
     "output_type": "stream",
     "text": [
      "25000 25250\n"
     ]
    }
   ],
   "source": [
    "start, stop = rawEDF.time_as_index([100, 101])\n",
    "print(start, stop)\n",
    "data, times = rawEDF[0:33:1, start:stop]"
   ]
  },
  {
   "cell_type": "code",
   "execution_count": null,
   "metadata": {},
   "outputs": [],
   "source": []
  }
 ],
 "metadata": {
  "kernelspec": {
   "display_name": "Python 3",
   "language": "python",
   "name": "python3"
  },
  "language_info": {
   "codemirror_mode": {
    "name": "ipython",
    "version": 3
   },
   "file_extension": ".py",
   "mimetype": "text/x-python",
   "name": "python",
   "nbconvert_exporter": "python",
   "pygments_lexer": "ipython3",
   "version": "3.8.3"
  }
 },
 "nbformat": 4,
 "nbformat_minor": 4
}
