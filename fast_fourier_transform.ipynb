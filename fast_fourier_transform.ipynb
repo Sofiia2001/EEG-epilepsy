{
 "cells": [
  {
   "cell_type": "code",
   "execution_count": 1,
   "metadata": {},
   "outputs": [],
   "source": [
    "import mne\n",
    "import pandas as pd\n",
    "from scipy.fft import fft, fftfreq, rfft, rfftfreq, rfftn \n",
    "import numpy as np\n",
    "import scipy\n",
    "import matplotlib.pyplot as plt \n",
    "import os\n",
    "from edf_file_processing import create_raw_object, visualize_data, find_all_paths"
   ]
  },
  {
   "cell_type": "code",
   "execution_count": 2,
   "metadata": {},
   "outputs": [
    {
     "name": "stdout",
     "output_type": "stream",
     "text": [
      "Extracting EDF parameters from /home/sophia/projects/eeg_epilepsy/edf/train/02_tcp_le/014/00001479/s001_2004_06_14/filtered_00001479_s001_t001.edf...\n",
      "EDF file detected\n",
      "Setting channel info structure...\n",
      "Creating raw.info structure...\n"
     ]
    }
   ],
   "source": [
    "# ./train/02_tcp_le/014/00001479/s001_2004_06_14/00001479_s001_t001.tse\n",
    "rawEDF = create_raw_object(\"edf/train/02_tcp_le/014/00001479/s001_2004_06_14/filtered_00001479_s001_t001.edf\")"
   ]
  },
  {
   "cell_type": "code",
   "execution_count": 3,
   "metadata": {},
   "outputs": [
    {
     "data": {
      "text/plain": [
       "<Info | 7 non-empty values\n",
       " bads: []\n",
       " ch_names: EEG FP1-LE, EEG FP2-LE, EEG F3-LE, EEG F4-LE, EEG C3-LE, EEG ...\n",
       " chs: 25 EEG\n",
       " custom_ref_applied: False\n",
       " highpass: 0.0 Hz\n",
       " lowpass: 125.0 Hz\n",
       " meas_date: 2020-11-20 07:43:35 UTC\n",
       " nchan: 25\n",
       " projs: []\n",
       " sfreq: 250.0 Hz\n",
       ">"
      ]
     },
     "execution_count": 3,
     "metadata": {},
     "output_type": "execute_result"
    }
   ],
   "source": [
    "rawEDF.info"
   ]
  },
  {
   "cell_type": "code",
   "execution_count": 4,
   "metadata": {},
   "outputs": [],
   "source": [
    "def fast_fourier_transform(rawEDF, if_real_value=False):\n",
    "    start, stop = rawEDF.time_as_index([100, 101])\n",
    "    print(start, stop)\n",
    "    data, times = rawEDF[:, start:stop]\n",
    "    print(data.shape)\n",
    "    \n",
    "    if if_real_value is True:\n",
    "        yf = fft(data[1])\n",
    "        xf = fftfreq(250, 1 / 250)\n",
    "    else:\n",
    "        yf = rfft(data[1])\n",
    "        xf = rfftfreq(250, 1 / 250)\n",
    "\n",
    "    plt.plot(xf, np.abs(yf))\n",
    "    plt.show()"
   ]
  },
  {
   "cell_type": "code",
   "execution_count": 5,
   "metadata": {},
   "outputs": [
    {
     "name": "stdout",
     "output_type": "stream",
     "text": [
      "25000 30000\n",
      "237500 242500\n"
     ]
    }
   ],
   "source": [
    "start, stop = rawEDF.time_as_index([100, 120])\n",
    "print(start, stop)\n",
    "data, times = rawEDF[:, start:stop]\n",
    "\n",
    "s, st = rawEDF.time_as_index([950, 970])\n",
    "print(s, st)\n",
    "d, t = rawEDF[:, s:st]"
   ]
  },
  {
   "cell_type": "code",
   "execution_count": 6,
   "metadata": {},
   "outputs": [
    {
     "data": {
      "image/png": "[encoded data removed]",
      "text/plain": [
       "<Figure size 432x288 with 1 Axes>"
      ]
     },
     "metadata": {
      "needs_background": "light"
     },
     "output_type": "display_data"
    }
   ],
   "source": [
    "yf = rfftn(data).sum(axis=0) / len(data)\n",
    "# normalized_yf = \n",
    "# len(yf)\n",
    "# yf\n",
    "xf = rfftfreq(250*20, 1 / 250)\n",
    "plt.plot(xf, np.abs(yf), 'r')\n",
    "plt.plot(rfftfreq(250*20, 1 / 250), np.abs(rfft(d)).sum(axis=0) / len(d))\n",
    "plt.show()"
   ]
  },
  {
   "cell_type": "code",
   "execution_count": null,
   "metadata": {},
   "outputs": [],
   "source": []
  }
 ],
 "metadata": {
  "kernelspec": {
   "display_name": "Python 3",
   "language": "python",
   "name": "python3"
  },
  "language_info": {
   "codemirror_mode": {
    "name": "ipython",
    "version": 3
   },
   "file_extension": ".py",
   "mimetype": "text/x-python",
   "name": "python",
   "nbconvert_exporter": "python",
   "pygments_lexer": "ipython3",
   "version": "3.8.3"
  }
 },
 "nbformat": 4,
 "nbformat_minor": 4
}
